{
 "cells": [
  {
   "cell_type": "code",
   "execution_count": null,
   "metadata": {},
   "outputs": [],
   "source": [
    "# -*- coding: utf-8 -*-\n",
    "\"\"\"\n",
    "Created on Wed Apr 17 14:23:34 2019\n",
    "\n",
    "@author: VDURBAL\n",
    "\"\"\"\n",
    "\n",
    "from random import *\n",
    "from math import ceil\n",
    "import sys\n",
    "import os\n",
    "import string\n",
    "\n",
    "\n",
    "\n",
    "words = ('abeille','anatomie','centaure','terminer','chanceux','gymnaste','bloqueur','enzyme')\n",
    "\n",
    "chance = 8\n",
    "\n",
    "file_score = 'scores'\n",
    "\n"
   ]
  }
 ],
 "metadata": {
  "kernelspec": {
   "display_name": "Python 3",
   "language": "python",
   "name": "python3"
  },
  "language_info": {
   "codemirror_mode": {
    "name": "ipython",
    "version": 3
   },
   "file_extension": ".py",
   "mimetype": "text/x-python",
   "name": "python",
   "nbconvert_exporter": "python",
   "pygments_lexer": "ipython3",
   "version": "3.7.0"
  }
 },
 "nbformat": 4,
 "nbformat_minor": 2
}
